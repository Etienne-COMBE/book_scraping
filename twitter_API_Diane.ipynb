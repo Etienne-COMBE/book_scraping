{
 "cells": [
  {
   "cell_type": "code",
   "execution_count": 1,
   "id": "0905b302",
   "metadata": {},
   "outputs": [],
   "source": [
    "import pandas as pd  #le package de manipulation de données le plus populaire en Python\n",
    "from bs4 import BeautifulSoup  #Beautiful Soup est une bibliothèque qui facilite le grattage d’informations à partir de pages Web\n",
    "import urllib.request #module Python permettant d’extraire des URL\n",
    "import csv #Le module csv nous permet de lire chacune des lignes du fichier en utilisant une virgule comme délimiteur\n",
    "import tweepy as tw # télécharger vos tweets de\n",
    "import time\n",
    "import json\n",
    "import nltk\n",
    "import re\n",
    "\n",
    "import numpy as np #aider à  obtenir la couleur de l'image\n",
    "import matplotlib.pyplot as plt\n",
    "import seaborn as sns #Pour le graphisme\n",
    "\n",
    "import matplotlib.pyplot as plt\n",
    "import matplotlib as mpl  #utiliser pour afficher dessiner des graphiques\n",
    "from wordcloud import WordCloud, STOPWORDS, ImageColorGenerator # importer des mots et va genere de couleurs d'image\n",
    "from PIL import Image"
   ]
  },
  {
   "cell_type": "code",
   "execution_count": 3,
   "id": "4e1b1bf8",
   "metadata": {},
   "outputs": [],
   "source": [
    "#Recuperer mes keys pour les utiliser\n",
    "auth = tw.OAuthHandler(consumer_key, consumer_secret)\n",
    "auth.set_access_token(access_token, access_token_secret)\n",
    "api = tw.API(auth)\n"
   ]
  },
  {
   "cell_type": "code",
   "execution_count": 4,
   "id": "b43ffd41",
   "metadata": {},
   "outputs": [],
   "source": [
    "def twitter_requete(search_key,csv_name):\n",
    "    \n",
    "    #search_key = \"the Art of War\"\n",
    "    #search_key = 'The song of Achille'\n",
    "    #search_key = \"The Book Thief\"\n",
    "    #search_key = \"the picture of Dorian gray\"\n",
    "    \n",
    "\n",
    "    csvFile = open(csv_name, \"a+\",newline=\"\",encoding=\"utf-8\")\n",
    "    csvWriter = csv.writer(csvFile) \n",
    "    print(csv.writer)\n",
    "\n",
    "    c = []\n",
    "    u = []\n",
    "    t = []\n",
    "\n",
    "    #i = []  ,until=\"2021-07-10\"  text_full.encode(\"utf-8\").strip('@') lang=\"id\"\n",
    "\n",
    "    for tweet in tw.Cursor(api.search,q=search_key,since=\"2021-01-01\",count=1000).items():\n",
    "        print(tweet.created_at, tweet.id, tweet.user.name, tweet.text)\n",
    "        c.append(tweet.created_at)\n",
    "        #i.append(tweet.id)\n",
    "        u.append(tweet.user.name)\n",
    "        t.append(tweet.text.encode(\"utf-8\"))\n",
    "\n",
    "        tweets=[tweet.created_at, tweet.id, tweet.user.name, tweet.text.encode(\"utf-8\")]\n",
    "        csvWriter.writerow(tweets)\n",
    "\n",
    "        #dictTweets = {\"time\":c, \"identifiant\":i, \"users\":u, \"tweets\":t }\n",
    "        dictTweets = {\"time\":c, \"users\":u, \"tweets_col\":t }\n",
    "\n",
    "\n",
    "\n",
    "    bdd = pd.DataFrame(dictTweets, columns=[\"time\",\"users\",\"tweets_col\"])\n",
    "    \n",
    "    \n",
    "    return bdd\n",
    "  "
   ]
  },
  {
   "cell_type": "raw",
   "id": "798174b0",
   "metadata": {},
   "source": [
    "NETTOYAGE DE MA DATA"
   ]
  },
  {
   "cell_type": "code",
   "execution_count": 5,
   "id": "d418f7d0",
   "metadata": {},
   "outputs": [],
   "source": [
    "def cleaning(bdd):\n",
    "\n",
    "    #SUPPRIMER TOUS LES DOUBLONS DE LA COLONNE 'TWEETS'\n",
    "    bdd = bdd.drop_duplicates(subset=['tweets_col'])\n",
    "\n",
    "    #SUPPRIMER TOUS LES '@'\n",
    "    bdd.tweets_col = bdd['tweets_col'].astype(str).str.replace('@', '')\n",
    "    #SUPPRIMER TOUS LES 'b'\n",
    "    bdd.tweets_col = bdd['tweets_col'].str.strip('b')\n",
    "    #SUPPRIMER TOUS LES 'RT'\n",
    "    bdd.tweets_col = bdd.tweets_col.str.replace('RT', '')\n",
    "    #SUPPRIMER LES LIENS\n",
    "    def remove_punct(text):\n",
    "        text = re.sub(\"(@[A-Za-z0–9]+)|[^\\w\\s]|#|http\\S+\",\"\", text)\n",
    "        return text\n",
    "\n",
    "    bdd['tweets_col'] =bdd['tweets_col'].apply(lambda x: remove_punct(x))\n",
    "    #AFFICHER LE DATAFRAME (TABLEAU) NETTOYES\n",
    "    \n",
    "    return bdd\n"
   ]
  },
  {
   "cell_type": "raw",
   "id": "355828c7",
   "metadata": {},
   "source": [
    "APPRENTISSAGE DES NUAGES DES MOTS"
   ]
  },
  {
   "cell_type": "code",
   "execution_count": 6,
   "id": "b610e6e1",
   "metadata": {
    "scrolled": false
   },
   "outputs": [
    {
     "data": {
      "image/png": "[encoded data removed]",
      "text/plain": [
       "<Figure size 432x288 with 1 Axes>"
      ]
     },
     "metadata": {
      "needs_background": "light"
     },
     "output_type": "display_data"
    }
   ],
   "source": [
    "#Le but facilité la comprehension d'1 texte en identifiant les idées principales\n",
    "text= 'Utilisation d’un bot : Permet d’enregistre des twitter même si la personne efface. C’est grâce à twitter de son API Twitter (une porte ouverte pour les programmes une fonctionnalité que Twitter nous donne à distance pour nos programme'\n",
    "wordcloud= WordCloud(max_words =10, stopwords= STOPWORDS, background_color='brown', width=2021, height=2021).generate(text)\n",
    "\n",
    "plt.imshow(wordcloud)\n",
    "plt.axis('off') #Eviter que les axes soient voyant\n",
    "plt.show()\n"
   ]
  },
  {
   "cell_type": "raw",
   "id": "9d87dc0e",
   "metadata": {},
   "source": [
    "VISUALISATION : NUAGE DES MOTS "
   ]
  },
  {
   "cell_type": "code",
   "execution_count": null,
   "id": "4f9c34ae",
   "metadata": {},
   "outputs": [],
   "source": [
    "def visualisation(bdd):\n",
    "    #CREER UNE LISTE DE LA TOTALITE DES TWEETS MOT PAR MOT\n",
    "    #saDataFrame[saDataFrame.ColonneTest.].colonneDesTweets\n",
    "    text = bdd[bdd.time=='2021'].tweets_col.tolist() \n",
    "\n",
    "    #METTRE TOUS LES MOTS EN MINUSCULE\n",
    "    text = ''.join(str(text)).lower()\n",
    "\n",
    "    #CODE POUR LE NUAGE DE MOTS\n",
    "    wordcloud = WordCloud(stopwords = STOPWORDS,collocations=True).generate(text)\n",
    "\n",
    "    #AFFICHER LE NUAGE DE MOTS\n",
    "    plt.figure(figsize=(10,10))\n",
    "    plt.imshow(wordcloud, interpolation='bilInear')\n",
    "    plt.axis('off')\n",
    "    plt.show()\n",
    "    \n",
    "    return bdd\n",
    "\n"
   ]
  },
  {
   "cell_type": "code",
   "execution_count": null,
   "id": "aa4ef5ab",
   "metadata": {},
   "outputs": [],
   "source": [
    "#Appeler à ma fonction en passant en parametre le livres\n",
    "bdd=twitter_requete('\"the art of war\"', 'the_art_of_war.csv')\n",
    "print(bdd)"
   ]
  },
  {
   "cell_type": "code",
   "execution_count": null,
   "id": "66135534",
   "metadata": {},
   "outputs": [],
   "source": [
    "#Appel de fonction nettoyage\n",
    "cleaning(bdd)"
   ]
  },
  {
   "cell_type": "code",
   "execution_count": null,
   "id": "d84d6167",
   "metadata": {
    "scrolled": true
   },
   "outputs": [],
   "source": [
    "#NECESSAIRE POUR CREER LE \"NUAGE DE MOT\"\n",
    "bdd['time'] = '2021'\n",
    "bdd"
   ]
  },
  {
   "cell_type": "code",
   "execution_count": null,
   "id": "f30c41ab",
   "metadata": {},
   "outputs": [],
   "source": [
    "#Appeler de ma fonction\n",
    "visualisation(bdd)"
   ]
  },
  {
   "cell_type": "code",
   "execution_count": null,
   "id": "70c24fc5",
   "metadata": {},
   "outputs": [],
   "source": [
    "#Appeler à ma fonction \n",
    "bdd=twitter_requete('\"The song of Achille\"', 'The_song_of_Achille.csv')\n",
    "print(t)"
   ]
  },
  {
   "cell_type": "code",
   "execution_count": null,
   "id": "fb9b97ab",
   "metadata": {},
   "outputs": [],
   "source": [
    "#Appel de fonction nettoyage\n",
    "cleaning(bdd)"
   ]
  },
  {
   "cell_type": "code",
   "execution_count": null,
   "id": "8b6d46af",
   "metadata": {},
   "outputs": [],
   "source": [
    "#NECESSAIRE POUR CREER LE \"NUAGE DE MOT\"\n",
    "bdd['time'] = '2021'\n",
    "bdd"
   ]
  },
  {
   "cell_type": "code",
   "execution_count": null,
   "id": "8a04d60e",
   "metadata": {},
   "outputs": [],
   "source": [
    "#Appeler de ma fonction\n",
    "visualisation(bdd)"
   ]
  },
  {
   "cell_type": "code",
   "execution_count": null,
   "id": "2e276e6e",
   "metadata": {
    "scrolled": false
   },
   "outputs": [],
   "source": [
    "#Appeler à ma fonction \n",
    "bdd=twitter_requete('\"The Book Thief\"', 'The_Book_Thief.csv')\n",
    "#print(t)"
   ]
  },
  {
   "cell_type": "code",
   "execution_count": null,
   "id": "1098794c",
   "metadata": {},
   "outputs": [],
   "source": [
    "#NECESSAIRE POUR CREER LE \"NUAGE DE MOT\"\n",
    "bdd['time'] = '2021'\n",
    "bdd"
   ]
  },
  {
   "cell_type": "code",
   "execution_count": null,
   "id": "a299e602",
   "metadata": {},
   "outputs": [],
   "source": [
    "#Appel de fonction nettoyage\n",
    "cleaning(bdd)"
   ]
  },
  {
   "cell_type": "code",
   "execution_count": null,
   "id": "2839abe1",
   "metadata": {},
   "outputs": [],
   "source": [
    "#Appeler de ma fonction\n",
    "visualisation(bdd)"
   ]
  },
  {
   "cell_type": "code",
   "execution_count": null,
   "id": "c549a833",
   "metadata": {},
   "outputs": [],
   "source": [
    "bdd=twitter_requete('\"The Book Thief\"', 'The_Book_Thief.csv')\n",
    "print(t)"
   ]
  },
  {
   "cell_type": "code",
   "execution_count": null,
   "id": "a0642374",
   "metadata": {},
   "outputs": [],
   "source": [
    "#NECESSAIRE POUR CREER LE \"NUAGE DE MOT\"\n",
    "bdd['time'] = '2021'\n",
    "bdd"
   ]
  },
  {
   "cell_type": "code",
   "execution_count": null,
   "id": "a1b4eb9b",
   "metadata": {},
   "outputs": [],
   "source": [
    "#Appel de fonction nettoyage\n",
    "cleaning(bdd)"
   ]
  },
  {
   "cell_type": "code",
   "execution_count": null,
   "id": "f5977d1a",
   "metadata": {},
   "outputs": [],
   "source": [
    "#Appeler de ma fonction\n",
    "visualisation(bdd)"
   ]
  },
  {
   "cell_type": "code",
   "execution_count": null,
   "id": "d1cfad8d",
   "metadata": {},
   "outputs": [],
   "source": [
    "bdd=twitter_requete('\"the picture of Dorian gray\"', 'the_picture_of_Dorian_gray.csv')\n",
    "print(t)"
   ]
  },
  {
   "cell_type": "code",
   "execution_count": null,
   "id": "260c6961",
   "metadata": {},
   "outputs": [],
   "source": [
    "#NECESSAIRE POUR CREER LE \"NUAGE DE MOT\"\n",
    "bdd['time'] = '2021'\n",
    "bdd"
   ]
  },
  {
   "cell_type": "code",
   "execution_count": null,
   "id": "af0cf145",
   "metadata": {},
   "outputs": [],
   "source": [
    "#Appel de fonction nettoyage\n",
    "cleaning(bdd)"
   ]
  },
  {
   "cell_type": "code",
   "execution_count": null,
   "id": "b272132f",
   "metadata": {},
   "outputs": [],
   "source": [
    "#Appeler de ma fonction\n",
    "visualisation(bdd)"
   ]
  },
  {
   "cell_type": "raw",
   "id": "3f89c764",
   "metadata": {},
   "source": [
    "DEBUT D'APPRENTISSAGE "
   ]
  },
  {
   "cell_type": "code",
   "execution_count": null,
   "id": "a3ec66f9",
   "metadata": {},
   "outputs": [],
   "source": [
    "#CREATION D'UN TABLEAU FREQUENCE/TRIGRAMMES\n",
    "from sklearn.feature_extraction.text import CountVectorizer\n",
    "\n",
    "#ngram_range= (2,2)Pour les bigrammes, (2,3)Pour les bigrammes et trigrammes, (3,3)Pour les trigrammes\n",
    "c_vec = CountVectorizer(ngram_range=(3,3))\n",
    "# matrix of ngrams\n",
    "ngrams = c_vec.fit_transform(bdd['tweets_col'])\n",
    "# count frequency of ngrams\n",
    "count_values = ngrams.toarray().sum(axis=0)\n",
    "# list of ngrams\n",
    "vocab = c_vec.vocabulary_\n",
    "df_ngram = pd.DataFrame(sorted([(count_values[i],k) for k,i in vocab.items()], reverse=True)\n",
    "            ).rename(columns={0: 'frequency', 1:'trigram'})\n",
    "df_ngram.head(25)"
   ]
  },
  {
   "cell_type": "code",
   "execution_count": null,
   "id": "d555cb63",
   "metadata": {},
   "outputs": [],
   "source": [
    "#GENERATION DES BIGRAMMES\n",
    "text = bdd[bdd.time=='2021'].tweets_col.tolist()\n",
    "text2 = [[Word for Word in line.split()] for line in text]\n",
    "bigrams = nltk.bigrams(text2)\n",
    "print(bigrams)"
   ]
  },
  {
   "cell_type": "raw",
   "id": "e5230659",
   "metadata": {},
   "source": [
    "'''def twitter_requete(search_key,csv_name):\n",
    "    t=twitter_requete('\"the art of war\"', 'the_art_of_war.csv')\n",
    "    print(t)'''"
   ]
  }
 ],
 "metadata": {
  "kernelspec": {
   "display_name": "Python 3",
   "language": "python",
   "name": "python3"
  },
  "language_info": {
   "codemirror_mode": {
    "name": "ipython",
    "version": 3
   },
   "file_extension": ".py",
   "mimetype": "text/x-python",
   "name": "python",
   "nbconvert_exporter": "python",
   "pygments_lexer": "ipython3",
   "version": "3.8.8"
  }
 },
 "nbformat": 4,
 "nbformat_minor": 5
}
