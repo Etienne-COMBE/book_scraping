{
 "cells": [
  {
   "cell_type": "code",
   "execution_count": null,
   "id": "6ad6f67c",
   "metadata": {},
   "outputs": [],
   "source": [
    "import pandas as pd\n",
    "import tweepy\n",
    "import emoji\n",
    "import re\n",
    "import matplotlib.pyplot as plt\n",
    "import seaborn as sns\n",
    "import csv\n",
    "from wordcloud import WordCloud\n",
    "from wordcloud import STOPWORDS\n",
    "import numpy as np\n",
    "from PIL import Image\n",
    "import nltk\n",
    "import nltk.tokenize \n",
    "from nltk.tokenize import word_tokenize\n",
    "from nltk.util import ngrams\n",
    "from nltk import FreqDist\n",
    "#nltk.download('punkt')\n",
    "from nltk.corpus import stopwords\n",
    "stopwords.words('english')\n",
    "from collections import Counter\n",
    "%matplotlib inline"
   ]
  },
  {
   "cell_type": "code",
   "execution_count": null,
   "id": "00c78d63",
   "metadata": {},
   "outputs": [],
   "source": [
    "%run ./keys.ipynb"
   ]
  },
  {
   "cell_type": "code",
   "execution_count": null,
   "id": "6843a715",
   "metadata": {},
   "outputs": [],
   "source": [
    "auth = tweepy.OAuthHandler(consumer_key,consumer_secret)\n",
    "auth.set_access_token(access_token, access_token_secret)\n",
    "api = tweepy.API(auth)"
   ]
  },
  {
   "cell_type": "code",
   "execution_count": null,
   "id": "b1162bc6",
   "metadata": {},
   "outputs": [],
   "source": [
    "num_of_tweets = 1000\n",
    "tweets = []\n",
    "likes = []\n",
    "time = []\n"
   ]
  },
  {
   "cell_type": "code",
   "execution_count": null,
   "id": "85de4665",
   "metadata": {},
   "outputs": [],
   "source": [
    "query = '\"The Book Thief\"'\n",
    "for i in tweepy.Cursor(api.search, q = query, Since ='2021-01-01', lang = 'en', tweet_mode = \"extended\").items(num_of_tweets):\n",
    "    tweets.append(i.full_text)\n",
    "    likes.append(i.favorite_count) \n",
    "    time.append(i.created_at)"
   ]
  },
  {
   "cell_type": "code",
   "execution_count": null,
   "id": "4a32f113",
   "metadata": {},
   "outputs": [],
   "source": [
    "The_Book_Thief_raw = pd.DataFrame({'tweets':tweets, 'likes':likes, 'time':time})\n",
    "The_Book_Thief_raw.to_csv('The_Book_Thief_raw.csv', header = True, index = False, index_label=None)"
   ]
  },
  {
   "cell_type": "code",
   "execution_count": null,
   "id": "1daf4397",
   "metadata": {},
   "outputs": [],
   "source": [
    "The_Book_Thief_cleaning = The_Book_Thief_raw[~The_Book_Thief_raw.tweets.str.contains(\"RT\")]\n",
    "The_Book_Thief_cleaning = The_Book_Thief_cleaning.reset_index(drop = True)"
   ]
  },
  {
   "cell_type": "code",
   "execution_count": null,
   "id": "d03092a8",
   "metadata": {},
   "outputs": [],
   "source": [
    "The_Book_Thief_cleaning[\"tweets\"] = The_Book_Thief_cleaning[\"tweets\"].str.replace(\"\\n\", \" \")  "
   ]
  },
  {
   "cell_type": "code",
   "execution_count": null,
   "id": "d66837ae",
   "metadata": {},
   "outputs": [],
   "source": [
    "for i in range(len(The_Book_Thief_cleaning['tweets'])):\n",
    "    clean_tweet = re.sub(\"https://[A-Za-z0-9./]+\", \"\", The_Book_Thief_cleaning['tweets'].values[i]).strip()\n",
    "    clean_tweet = clean_tweet.lower()\n",
    "    clean_tweet = re.sub(\"@[A-Za-z0-9_]+ \", \"\", clean_tweet) \n",
    "    clean_tweet = re.sub(\"#[A-Za-z0-9_]+ \", \"\", clean_tweet)\n",
    "    clean_tweet = emoji.get_emoji_regexp().sub(r'', clean_tweet)\n",
    "    clean_tweet = re.sub(\"[)(!,/;&-?\\★@.“☀☆”✧⋇⋆#✦ಥ‿ಥ•^%]+\", \"\", clean_tweet)\n",
    "    clean_tweet = clean_tweet.strip()\n",
    "    The_Book_Thief_cleaning['tweets'].values[i] = clean_tweet"
   ]
  },
  {
   "cell_type": "code",
   "execution_count": null,
   "id": "a1a4c265",
   "metadata": {},
   "outputs": [],
   "source": [
    "The_Book_Thief_cleaning.to_csv('The_Book_Thief_clean.csv', header = True, index = False, index_label = None)"
   ]
  },
  {
   "cell_type": "code",
   "execution_count": null,
   "id": "f741ea91",
   "metadata": {},
   "outputs": [],
   "source": [
    "tweet_text = str(The_Book_Thief_cleaning['tweets'].values)\n",
    "tweet_text = tweet_text.replace(\"\\'\\n\", \"\")\n",
    "tweet_text = tweet_text.replace(\"\\'\", \"\")"
   ]
  },
  {
   "cell_type": "code",
   "execution_count": null,
   "id": "3002a1ec",
   "metadata": {},
   "outputs": [],
   "source": [
    "def plot_word_cloud(tweet_text, masque) :\n",
    "    mask_coloring = np.array(Image.open(str(masque)))\n",
    "    wc = WordCloud(width = 600, height = 600, background_color = \"white\", max_words = 150,\n",
    "                   mask = mask_coloring, max_font_size = 90,\n",
    "                   collocations = False, random_state = 42, margin = 2)\n",
    "\n",
    "    plt.figure(figsize = (12,8))\n",
    "    wc.generate(tweet_text)\n",
    "    plt.imshow(wc, interpolation = \"bilinear\")\n",
    "    plt.axis(\"off\")\n",
    "    plt.show()\n",
    "    wc.to_file('Twitter.jpg')\n",
    "\n",
    "plot_word_cloud(tweet_text, 'E:\\\\Logos.png')"
   ]
  },
  {
   "cell_type": "code",
   "execution_count": null,
   "id": "b28d860f",
   "metadata": {},
   "outputs": [],
   "source": [
    "token = nltk.word_tokenize(tweet_text)\n",
    "filtered = [word for word in token if word not in stopwords.words('english')]"
   ]
  },
  {
   "cell_type": "code",
   "execution_count": null,
   "id": "dcaaa357",
   "metadata": {},
   "outputs": [],
   "source": [
    "bigrams = list(ngrams(filtered,2))\n",
    "trigrams = list(ngrams(filtered,3))"
   ]
  },
  {
   "cell_type": "code",
   "execution_count": null,
   "id": "c420532f",
   "metadata": {},
   "outputs": [],
   "source": [
    "a = Counter(bigrams)\n",
    "b = Counter(trigrams) "
   ]
  },
  {
   "cell_type": "code",
   "execution_count": null,
   "id": "9ba6976b",
   "metadata": {},
   "outputs": [],
   "source": [
    "df_bigram = pd.DataFrame.from_records(a.most_common(30), columns=['bigram','count'])\n",
    "df_trigram = pd.DataFrame.from_records(b.most_common(30), columns=['trigram','count'])"
   ]
  },
  {
   "cell_type": "code",
   "execution_count": null,
   "id": "b846007f",
   "metadata": {},
   "outputs": [],
   "source": [
    "plt.figure(figsize=(35,20))\n",
    "plt.xlabel(\"Occurency\")\n",
    "plt.ylabel(\"Words_bigram\")\n",
    "sns.barplot(x=df_bigram['count'], y=df_bigram['bigram'])"
   ]
  },
  {
   "cell_type": "code",
   "execution_count": null,
   "id": "e79a548f",
   "metadata": {},
   "outputs": [],
   "source": [
    "plt.figure(figsize=(35,20))\n",
    "plt.xlabel(\"Occurency\")\n",
    "plt.ylabel(\"Words_bigram\")\n",
    "sns.barplot(x=df_trigram['count'], y=df_trigram['trigram'])"
   ]
  },
  {
   "cell_type": "code",
   "execution_count": null,
   "id": "1c2de66d",
   "metadata": {},
   "outputs": [],
   "source": [
    "# remove all words that take place in visualisation, bigrams and trigrams\n",
    "tweet_text = tweet_text.replace(\"picture\", \"\")\n",
    "tweet_text = tweet_text.replace(\"dorian\", \"\")\n",
    "tweet_text = tweet_text.replace(\"book\", \"\")\n",
    "tweet_text = tweet_text.replace(\"read\", \"\")\n",
    "tweet_text = tweet_text.replace(\"reading\", \"\")\n",
    "tweet_text = tweet_text.replace(\"oscar\", \"\")\n",
    "tweet_text = tweet_text.replace(\"wilde\", \"\")\n",
    "tweet_text = tweet_text.replace(\"gray\", \"\")"
   ]
  },
  {
   "cell_type": "code",
   "execution_count": null,
   "id": "1943106b",
   "metadata": {},
   "outputs": [],
   "source": [
    "def plot_word_cloud(tweet_text, masque) :\n",
    "    mask_coloring = np.array(Image.open(str(masque)))\n",
    "    wc = WordCloud(width = 600, height = 600, background_color = \"white\", max_words = 150,\n",
    "                   mask = mask_coloring, max_font_size = 90,\n",
    "                   collocations = False, random_state = 42, margin = 2)\n",
    "\n",
    "    plt.figure(figsize = (12,8))\n",
    "    wc.generate(tweet_text)\n",
    "    plt.imshow(wc, interpolation = \"bilinear\")\n",
    "    plt.axis(\"off\")\n",
    "    plt.show()\n",
    "    wc.to_file('Twitter.jpg')\n",
    "\n",
    "plot_word_cloud(tweet_text, 'E:\\\\Logos.png')"
   ]
  },
  {
   "cell_type": "code",
   "execution_count": null,
   "id": "b0dab008",
   "metadata": {},
   "outputs": [],
   "source": [
    "token = nltk.word_tokenize(tweet_text)\n",
    "filtered = [word for word in token if word not in stopwords.words('english')]"
   ]
  },
  {
   "cell_type": "code",
   "execution_count": null,
   "id": "b1e6b7f2",
   "metadata": {},
   "outputs": [],
   "source": [
    "bigrams = list(ngrams(filtered,2))\n",
    "trigrams = list(ngrams(filtered,3))"
   ]
  },
  {
   "cell_type": "code",
   "execution_count": null,
   "id": "45f66d68",
   "metadata": {},
   "outputs": [],
   "source": [
    "a = Counter(bigrams)\n",
    "b = Counter(trigrams) "
   ]
  },
  {
   "cell_type": "code",
   "execution_count": null,
   "id": "3b7ec576",
   "metadata": {},
   "outputs": [],
   "source": [
    "df_bigram = pd.DataFrame.from_records(a.most_common(30), columns=['bigram','count'])\n",
    "df_trigram = pd.DataFrame.from_records(b.most_common(30), columns=['trigram','count'])"
   ]
  },
  {
   "cell_type": "code",
   "execution_count": null,
   "id": "9136dd63",
   "metadata": {},
   "outputs": [],
   "source": [
    "plt.figure(figsize=(35,20))\n",
    "plt.xlabel(\"Occurency\")\n",
    "plt.ylabel(\"Words_bigram\")\n",
    "sns.barplot(x=df_bigram['count'], y=df_bigram['bigram'])"
   ]
  },
  {
   "cell_type": "code",
   "execution_count": null,
   "id": "d6ca4a18",
   "metadata": {},
   "outputs": [],
   "source": [
    "plt.figure(figsize=(35,20))\n",
    "plt.xlabel(\"Occurency\")\n",
    "plt.ylabel(\"Words_bigram\")\n",
    "sns.barplot(x=df_trigram['count'], y=df_trigram['trigram'])"
   ]
  }
 ],
 "metadata": {
  "kernelspec": {
   "display_name": "Python 3",
   "language": "python",
   "name": "python3"
  },
  "language_info": {
   "codemirror_mode": {
    "name": "ipython",
    "version": 3
   },
   "file_extension": ".py",
   "mimetype": "text/x-python",
   "name": "python",
   "nbconvert_exporter": "python",
   "pygments_lexer": "ipython3",
   "version": "3.8.8"
  }
 },
 "nbformat": 4,
 "nbformat_minor": 5
}
