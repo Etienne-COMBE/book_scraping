{
 "cells": [
  {
   "cell_type": "code",
   "execution_count": 1,
   "id": "851d98d2",
   "metadata": {},
   "outputs": [],
   "source": [
    "# import all the packages\n",
    "\n",
    "from bs4 import BeautifulSoup\n",
    "import urllib.request as ul\n",
    "import csv\n",
    "import sqlite3"
   ]
  },
  {
   "cell_type": "code",
   "execution_count": 15,
   "id": "84d81861",
   "metadata": {},
   "outputs": [],
   "source": [
    "# function that scrap an entire html page\n",
    "\n",
    "def page_table(tag, table):\n",
    "    print(tag)\n",
    "    # url of the page number 'tag'\n",
    "    urlpage = 'https://books.toscrape.com/catalogue/page-'+ tag +'.html'\n",
    "\n",
    "    page = ul.urlopen(urlpage)\n",
    "    # html file in the soup variable\n",
    "    soup = BeautifulSoup(page, 'lxml')\n",
    "    # ResultSet (list) of <article> tags\n",
    "    articles = soup.find_all('article')\n",
    "    \n",
    "    # loop filling the table\n",
    "    for j in range(len(articles)):\n",
    "        # empty line to append at the end\n",
    "        line_ = []\n",
    "        # title of the book in the <a> title\n",
    "        line_.append(articles[j].h3.a['title'])\n",
    "        # getting the categorical rating (stars)\n",
    "        rating = articles[j].p['class'][1]\n",
    "        # replacing the string into a integer corresponding\n",
    "        rating_str = rating.replace('One', '1')\n",
    "        rating_str = rating_str.replace('Two', '2')\n",
    "        rating_str = rating_str.replace('Three', '3')\n",
    "        rating_str = rating_str.replace('Four', '4')\n",
    "        rating_str = rating_str.replace('Five', '5')\n",
    "        line_.append(int(rating_str))\n",
    "        # getting a <div> with the 'product_price' name\n",
    "        div_prod = articles[j].find('div', {'class': 'product_price'})\n",
    "        # getting the cleaned price of the book\n",
    "        line_.append(div_prod.p.text[1:])\n",
    "        # getting the cleaned link of the image\n",
    "        src = articles[j].div.img['src'].strip('..')\n",
    "        line_.append('https://books.toscrape.com' + src)\n",
    "        # getting the availibility of the book (turned into a 0 or 1)\n",
    "        line_.append(int(div_prod.p.find_next('p')['class'][0] == 'instock'))\n",
    "        # adding the entire line to the table\n",
    "        table.append(line_)\n",
    "    return table"
   ]
  },
  {
   "cell_type": "code",
   "execution_count": 13,
   "id": "30a8781e",
   "metadata": {},
   "outputs": [],
   "source": [
    "# calling the function on multiple pages\n",
    "def scraping_to_table():\n",
    "    # initilalize global table\n",
    "    table = []\n",
    "    # getting the number of pages of the site\n",
    "    urlpage = 'https://books.toscrape.com/'\n",
    "    page = ul.urlopen(urlpage)\n",
    "    soup = BeautifulSoup(page, 'html.parser')\n",
    "    nbrpages = int(soup.find(class_=\"current\").text.strip().split()[3])\n",
    "    # calling the function for all \n",
    "    for i in range(1, nbrpages+1):\n",
    "        table = page_table(str(i), table)\n",
    "    return table"
   ]
  },
  {
   "cell_type": "code",
   "execution_count": 14,
   "id": "cd4f1a1e",
   "metadata": {},
   "outputs": [],
   "source": [
    "# function called in the main\n",
    "def scraping_to_csv():\n",
    "    # calling the scraping function\n",
    "    table = scraping_to_table()\n",
    "    # columns of the table\n",
    "    columns = ['title', 'rank', 'price','link', 'availibility']\n",
    "    # opening and writing of the csv file\n",
    "    with open('books.csv', 'w', newline = '') as f:\n",
    "        write = csv.writer(f)\n",
    "        write.writerow(columns)\n",
    "        write.writerows(table)\n",
    "    # the function creates a csv file on the root of the script\n",
    "    return"
   ]
  },
  {
   "cell_type": "code",
   "execution_count": null,
   "id": "960a975e",
   "metadata": {},
   "outputs": [],
   "source": []
  }
 ],
 "metadata": {
  "kernelspec": {
   "display_name": "Python 3",
   "language": "python",
   "name": "python3"
  },
  "language_info": {
   "codemirror_mode": {
    "name": "ipython",
    "version": 3
   },
   "file_extension": ".py",
   "mimetype": "text/x-python",
   "name": "python",
   "nbconvert_exporter": "python",
   "pygments_lexer": "ipython3",
   "version": "3.8.8"
  }
 },
 "nbformat": 4,
 "nbformat_minor": 5
}
