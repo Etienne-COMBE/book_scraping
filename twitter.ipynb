{
 "cells": [
  {
   "cell_type": "code",
   "execution_count": 1,
   "id": "d561e868",
   "metadata": {},
   "outputs": [
    {
     "name": "stdout",
     "output_type": "stream",
     "text": [
      "Requirement already satisfied: tweepy in c:\\users\\simplon\\anaconda3\\lib\\site-packages (3.10.0)\n",
      "Requirement already satisfied: requests[socks]>=2.11.1 in c:\\users\\simplon\\anaconda3\\lib\\site-packages (from tweepy) (2.25.1)\n",
      "Requirement already satisfied: six>=1.10.0 in c:\\users\\simplon\\anaconda3\\lib\\site-packages (from tweepy) (1.15.0)\n",
      "Requirement already satisfied: requests-oauthlib>=0.7.0 in c:\\users\\simplon\\anaconda3\\lib\\site-packages (from tweepy) (1.3.0)\n",
      "Requirement already satisfied: oauthlib>=3.0.0 in c:\\users\\simplon\\anaconda3\\lib\\site-packages (from requests-oauthlib>=0.7.0->tweepy) (3.1.1)\n",
      "Requirement already satisfied: urllib3<1.27,>=1.21.1 in c:\\users\\simplon\\anaconda3\\lib\\site-packages (from requests[socks]>=2.11.1->tweepy) (1.26.4)\n",
      "Requirement already satisfied: chardet<5,>=3.0.2 in c:\\users\\simplon\\anaconda3\\lib\\site-packages (from requests[socks]>=2.11.1->tweepy) (4.0.0)\n",
      "Requirement already satisfied: certifi>=2017.4.17 in c:\\users\\simplon\\anaconda3\\lib\\site-packages (from requests[socks]>=2.11.1->tweepy) (2020.12.5)\n",
      "Requirement already satisfied: idna<3,>=2.5 in c:\\users\\simplon\\anaconda3\\lib\\site-packages (from requests[socks]>=2.11.1->tweepy) (2.10)\n",
      "Requirement already satisfied: PySocks!=1.5.7,>=1.5.6 in c:\\users\\simplon\\anaconda3\\lib\\site-packages (from requests[socks]>=2.11.1->tweepy) (1.7.1)\n",
      "Note: you may need to restart the kernel to use updated packages.\n"
     ]
    }
   ],
   "source": [
    "pip install tweepy"
   ]
  },
  {
   "cell_type": "code",
   "execution_count": 10,
   "id": "c0d69b09",
   "metadata": {},
   "outputs": [],
   "source": [
    "import tweepy\n",
    "import csv\n",
    "import pandas as pd\n",
    "import re"
   ]
  },
  {
   "cell_type": "code",
   "execution_count": 3,
   "id": "a5f63dd1",
   "metadata": {},
   "outputs": [],
   "source": [
    "# getting the tweets from the twitter API\n",
    "def twitter_query(query_name):\n",
    "    # add remotely the consumer keys and tokens\n",
    "    %run ./keys.ipynb\n",
    "    # connecting to the API\n",
    "    auth = tweepy.OAuthHandler(consumer_key,consumer_secret)\n",
    "    auth.set_access_token(access_token, access_token_secret)\n",
    "    api = tweepy.API(auth)\n",
    "    # initializing tables\n",
    "    num_of_tweets = 1000\n",
    "    tweets = []\n",
    "    likes = []\n",
    "    time = []\n",
    "    # getting the result of the query\n",
    "    for i in tweepy.Cursor(api.search, q=query_name, Since='2021-01-01', lang = 'en', tweet_mode=\"extended\").items(num_of_tweets):\n",
    "        tweets.append(i.full_text)\n",
    "        likes.append(i.favorite_count) \n",
    "        time.append(i.created_at)\n",
    "    return tweets, likes, time\n"
   ]
  },
  {
   "cell_type": "code",
   "execution_count": 4,
   "id": "d5b127ee",
   "metadata": {},
   "outputs": [],
   "source": [
    "# convert the list of tweets into a csv\n",
    "def tweets_csv(query_name, csv_name):\n",
    "    # getting the filled lists of results\n",
    "    tweets, likes, time = twitter_query(query_name)\n",
    "    # transforming into a DataFrame\n",
    "    df = pd.DataFrame({'tweets':tweets, 'likes':likes, 'time':time})\n",
    "    # transforming into a csv\n",
    "    df.to_csv(csv_name, header=True, index=False, index_label=None, encoding=\"UTF8\")"
   ]
  },
  {
   "cell_type": "code",
   "execution_count": 14,
   "id": "8b267719",
   "metadata": {},
   "outputs": [],
   "source": [
    "# cleaning the tweets data\n",
    "def tweet_cleaning(csv_name):\n",
    "    df = pd.read_csv(csv_name)\n",
    "    df = df[~df.tweets.str.contains(\"RT\")]\n",
    "    df = df.reset_index(drop = True)\n",
    "    tweets = df['tweets']\n",
    "    \n",
    "    for i in range(len(tweets)):\n",
    "        clean_tweet = re.sub(\"https://[A-Za-z0-9./_]+\", \" \", tweets[i]).strip()\n",
    "        clean_tweet = re.sub(\"@[A-Za-z0-9_]+\",\" \", clean_tweet)\n",
    "        clean_tweet = re.sub(\"#[A-Za-z0-9_]+\",\" \", clean_tweet)\n",
    "        clean_tweet = clean_tweet.lower()\n",
    "        whitelist = set(\"'abcdefghijklmnopqrstuvwxyz \")\n",
    "        clean_tweet = re.sub(\":\", \" \", clean_tweet)\n",
    "        clean_tweet = ''.join(filter(whitelist.__contains__, clean_tweet))\n",
    "        tweets[i] = clean_tweet\n",
    "    return df\n"
   ]
  },
  {
   "cell_type": "code",
   "execution_count": null,
   "id": "621bdb78",
   "metadata": {},
   "outputs": [],
   "source": []
  }
 ],
 "metadata": {
  "kernelspec": {
   "display_name": "Python 3",
   "language": "python",
   "name": "python3"
  },
  "language_info": {
   "codemirror_mode": {
    "name": "ipython",
    "version": 3
   },
   "file_extension": ".py",
   "mimetype": "text/x-python",
   "name": "python",
   "nbconvert_exporter": "python",
   "pygments_lexer": "ipython3",
   "version": "3.8.8"
  }
 },
 "nbformat": 4,
 "nbformat_minor": 5
}
